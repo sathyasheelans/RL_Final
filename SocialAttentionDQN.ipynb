{
  "cells": [
    {
      "cell_type": "markdown",
      "metadata": {
        "id": "sepDWoBqdRMK"
      },
      "source": [
        "# Training a DQN with social attention on `intersection-v0`\n",
        "\n",
        "## Import requirements"
      ]
    },
    {
      "cell_type": "code",
      "execution_count": null,
      "metadata": {
        "id": "Kx8X4s8krNWt"
      },
      "outputs": [],
      "source": [
        "# Environment\n",
        "!pip install highway-env\n",
        "import gym\n",
        "import highway_env\n",
        "\n",
        "# Agent\n",
        "!pip install git+https://github.com/eleurent/rl-agents#egg=rl-agents\n",
        "\n",
        "# Visualisation utils\n",
        "import sys\n",
        "%load_ext tensorboard\n",
        "!pip install tensorboardx gym pyvirtualdisplay\n",
        "!apt-get install -y xvfb python-opengl ffmpeg\n",
        "!git clone https://github.com/eleurent/highway-env.git \n",
        "sys.path.insert(0, '/content/highway-env/scripts/')\n",
        "from utils import show_videos"
      ]
    },
    {
      "cell_type": "markdown",
      "metadata": {
        "id": "vvOEW00pdHrG"
      },
      "source": [
        "## Training\n",
        "\n",
        "Prepare environment, agent, and evaluation process.\n",
        "\n",
        "We use a policy architecture based on social attention, see [[Leurent and Mercat, 2019]](https://arxiv.org/abs/1911.12250).\n"
      ]
    },
    {
      "cell_type": "code",
      "execution_count": null,
      "metadata": {},
      "outputs": [],
      "source": [
        "!git clone https://github.com/eleurent/rl-agents.git "
      ]
    },
    {
      "cell_type": "code",
      "execution_count": null,
      "metadata": {
        "id": "QowKW3ix45ZW"
      },
      "outputs": [],
      "source": [
        "import gym\n",
        "import highway_env\n",
        "from rl_agents.trainer.evaluation import Evaluation\n",
        "from rl_agents.agents.common.factory import load_agent, load_environment\n",
        "\n",
        "# Get the environment and agent configurations from the rl-agents repository\n",
        "\n",
        "%cd /home/santhanam.17/RL_Project/RL_Final/rl-agents/scripts\n",
        "env_config = '/home/santhanam.17/RL_Project/RL_Final/rl-agents/scripts/configs/HighwayEnv/env_easy.json'\n",
        "agent_config = '/home/santhanam.17/RL_Project/RL_Final/rl-agents/scripts/configs/HighwayEnv/agents/DQNAgent/dqn.json'\n",
        "print(agent_config)\n",
        "\n",
        "env = load_environment(env_config)\n",
        "print(env)\n",
        "agent = load_agent(agent_config, env)\n",
        "evaluation = Evaluation(env, agent, num_episodes=3000, display_env=False, display_agent=False)\n",
        "print(f\"Ready to train {agent} on {env}\")"
      ]
    },
    {
      "cell_type": "markdown",
      "metadata": {
        "id": "nqnGqW6jd1xN"
      },
      "source": [
        "Run tensorboard locally to visualize training."
      ]
    },
    {
      "cell_type": "code",
      "execution_count": null,
      "metadata": {
        "id": "q7QJY2wc4_1N"
      },
      "outputs": [],
      "source": [
        "%tensorboard --logdir \"{evaluation.directory}\""
      ]
    },
    {
      "cell_type": "markdown",
      "metadata": {
        "id": "BtK9dtfb0JMF"
      },
      "source": [
        "Start training. This should take about an hour."
      ]
    },
    {
      "cell_type": "code",
      "execution_count": null,
      "metadata": {
        "id": "sFVq1gFz42Eg"
      },
      "outputs": [],
      "source": [
        "evaluation.train()"
      ]
    },
    {
      "cell_type": "markdown",
      "metadata": {
        "id": "-lNvWg42RWiw"
      },
      "source": [
        "Progress can be visualised in the tensorboard cell above, which should update every 30s (or manually). You may need to click the *Fit domain to data* buttons below each graph."
      ]
    },
    {
      "cell_type": "markdown",
      "metadata": {
        "id": "VKfvu5uhzCIU"
      },
      "source": [
        "## Testing\n",
        "\n",
        "Run the learned policy for a few episodes."
      ]
    },
    {
      "cell_type": "code",
      "execution_count": null,
      "metadata": {
        "id": "gY0rpVYUtRpN"
      },
      "outputs": [],
      "source": [
        "env = load_environment(env_config)\n",
        "env.configure({\"offscreen_rendering\": True})\n",
        "agent = load_agent(agent_config, env)\n",
        "evaluation = Evaluation(env, agent, num_episodes=3, recover=True)\n",
        "evaluation.test()\n",
        "show_videos(evaluation.run_directory)"
      ]
    }
  ],
  "metadata": {
    "accelerator": "GPU",
    "colab": {
      "name": "SocialAttentionDQN",
      "provenance": []
    },
    "kernelspec": {
      "display_name": "Python 3.7.13 ('working')",
      "language": "python",
      "name": "python3"
    },
    "language_info": {
      "codemirror_mode": {
        "name": "ipython",
        "version": 3
      },
      "file_extension": ".py",
      "mimetype": "text/x-python",
      "name": "python",
      "nbconvert_exporter": "python",
      "pygments_lexer": "ipython3",
      "version": "3.7.13"
    },
    "pycharm": {
      "stem_cell": {
        "cell_type": "raw",
        "metadata": {
          "collapsed": false
        },
        "source": []
      }
    },
    "vscode": {
      "interpreter": {
        "hash": "bcf777e2ff8130dfd2b1705e2d6bb8e79a39708afc967d659b402e6656d1d5ad"
      }
    }
  },
  "nbformat": 4,
  "nbformat_minor": 0
}
